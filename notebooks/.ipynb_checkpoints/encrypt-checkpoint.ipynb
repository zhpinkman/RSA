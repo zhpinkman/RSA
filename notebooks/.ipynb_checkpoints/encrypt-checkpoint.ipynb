{
 "cells": [
  {
   "cell_type": "code",
   "execution_count": 2,
   "id": "composite-hardware",
   "metadata": {},
   "outputs": [],
   "source": [
    "import random\n",
    "import math\n",
    "import numpy as np\n",
    "import sys\n",
    "from tqdm import tqdm "
   ]
  },
  {
   "cell_type": "code",
   "execution_count": 3,
   "id": "renewable-retail",
   "metadata": {},
   "outputs": [],
   "source": [
    "def read_key(filename):\n",
    "    with open(filename, 'r') as f:\n",
    "        key = int(f.readline())\n",
    "        n = int(f.readline())\n",
    "        f.close()\n",
    "    return key, n"
   ]
  },
  {
   "cell_type": "code",
   "execution_count": 4,
   "id": "smooth-nickname",
   "metadata": {},
   "outputs": [],
   "source": [
    "e, n = read_key('public.key')\n",
    "d, n = read_key('private.key')"
   ]
  },
  {
   "cell_type": "code",
   "execution_count": 5,
   "id": "animated-hostel",
   "metadata": {},
   "outputs": [],
   "source": [
    "def find_number_of_output_bytes(n):\n",
    "    n_byte = 8\n",
    "    i = 1\n",
    "    while True: \n",
    "        if not (2**((i-1)*n_byte) < n <= 2**((i)*n_byte)): \n",
    "            i += 1\n",
    "        else: \n",
    "            break\n",
    "    return i"
   ]
  },
  {
   "cell_type": "code",
   "execution_count": 6,
   "id": "transsexual-external",
   "metadata": {},
   "outputs": [],
   "source": [
    "C_len = find_number_of_output_bytes(n)"
   ]
  },
  {
   "cell_type": "code",
   "execution_count": 7,
   "id": "inappropriate-wichita",
   "metadata": {},
   "outputs": [],
   "source": [
    "!echo \"Zhivar was here!\" > input.txt"
   ]
  },
  {
   "cell_type": "code",
   "execution_count": 8,
   "id": "champion-skating",
   "metadata": {},
   "outputs": [],
   "source": [
    "with open('input.txt', 'rb') as f:\n",
    "    plain_text = f.read()\n",
    "    f.close()"
   ]
  },
  {
   "cell_type": "code",
   "execution_count": 11,
   "id": "injured-jerusalem",
   "metadata": {},
   "outputs": [
    {
     "data": {
      "text/plain": [
       "b'Zhivar was here!\\n'"
      ]
     },
     "execution_count": 11,
     "metadata": {},
     "output_type": "execute_result"
    }
   ],
   "source": [
    "arr = np.array()\n",
    "for byte in tqdm(plain_text):\n",
    "    "
   ]
  },
  {
   "cell_type": "code",
   "execution_count": 9,
   "id": "published-latest",
   "metadata": {},
   "outputs": [
    {
     "name": "stderr",
     "output_type": "stream",
     "text": [
      "100%|██████████| 17/17 [00:04<00:00,  3.77it/s]\n"
     ]
    }
   ],
   "source": [
    "with open('input.txt.enc', 'wb') as f:\n",
    "    for byte in tqdm(plain_text): \n",
    "        cipher = (byte ** e) % n\n",
    "        cipher = cipher.to_bytes(C_len, sys.byteorder)\n",
    "        f.write(cipher)\n",
    "    f.close()"
   ]
  },
  {
   "cell_type": "code",
   "execution_count": 10,
   "id": "cleared-silver",
   "metadata": {},
   "outputs": [
    {
     "name": "stdout",
     "output_type": "stream",
     "text": [
      "\u0000�\u000e�R\u0002��\u0006��\tw�\u0007�d\u0003kd\u000b",
      "\u0000�\u000b",
      "w�\u0007<�\u0001kd\u000b",
      "�R\u0002\u001c",
      "�\u0007�d\u0003\u001c",
      "�\u0007܈\b��\r"
     ]
    }
   ],
   "source": [
    "!cat input.txt.enc"
   ]
  },
  {
   "cell_type": "code",
   "execution_count": 163,
   "id": "alone-recycling",
   "metadata": {},
   "outputs": [],
   "source": [
    "with open('input.txt.enc', 'rb') as f:\n",
    "    cipher_text = f.read()\n",
    "    f.close()"
   ]
  },
  {
   "cell_type": "code",
   "execution_count": 164,
   "id": "divided-housing",
   "metadata": {},
   "outputs": [],
   "source": [
    "decrypted_result = []\n",
    "for i in range(int(len(cipher_text) / C_len)):\n",
    "    block = bytearray([cipher_text[j] for j in range(2*i, 2*i+C_len)])\n",
    "    block_int = int.from_bytes(block, sys.byteorder)\n",
    "    decrypted_block = (block_int ** d) % n\n",
    "    decrypted_result.append(decrypted_block)"
   ]
  },
  {
   "cell_type": "code",
   "execution_count": 165,
   "id": "optimum-letter",
   "metadata": {},
   "outputs": [
    {
     "data": {
      "text/plain": [
       "'Zhivar was here!\\n'"
      ]
     },
     "execution_count": 165,
     "metadata": {},
     "output_type": "execute_result"
    }
   ],
   "source": [
    "''.join([chr(ascii_byte) for ascii_byte in decrypted_result])"
   ]
  }
 ],
 "metadata": {
  "kernelspec": {
   "display_name": "Python 3",
   "language": "python",
   "name": "python3"
  },
  "language_info": {
   "codemirror_mode": {
    "name": "ipython",
    "version": 3
   },
   "file_extension": ".py",
   "mimetype": "text/x-python",
   "name": "python",
   "nbconvert_exporter": "python",
   "pygments_lexer": "ipython3",
   "version": "3.8.0"
  }
 },
 "nbformat": 4,
 "nbformat_minor": 5
}
