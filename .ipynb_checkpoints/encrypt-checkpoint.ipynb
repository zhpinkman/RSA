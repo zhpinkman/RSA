{
 "cells": [
  {
   "cell_type": "code",
   "execution_count": 104,
   "id": "wooden-clear",
   "metadata": {},
   "outputs": [],
   "source": [
    "import random\n",
    "import math\n",
    "import numpy as np\n",
    "import sys"
   ]
  },
  {
   "cell_type": "code",
   "execution_count": 105,
   "id": "chemical-gnome",
   "metadata": {},
   "outputs": [],
   "source": [
    "def read_key(filename):\n",
    "    with open(filename, 'r') as f:\n",
    "        key = int(f.readline())\n",
    "        n = int(f.readline())\n",
    "        f.close()\n",
    "    return key, n"
   ]
  },
  {
   "cell_type": "code",
   "execution_count": 106,
   "id": "hydraulic-marker",
   "metadata": {},
   "outputs": [],
   "source": [
    "e, n = read_key('public.key')\n",
    "d, n = read_key('private.key')"
   ]
  },
  {
   "cell_type": "code",
   "execution_count": 107,
   "id": "dominican-grass",
   "metadata": {},
   "outputs": [],
   "source": [
    "def find_number_of_output_bytes(n):\n",
    "    n_byte = 8\n",
    "    i = 1\n",
    "    while True: \n",
    "        if not (2**((i-1)*n_byte) < n <= 2**((i)*n_byte)): \n",
    "            i += 1\n",
    "        else: \n",
    "            break\n",
    "    return i"
   ]
  },
  {
   "cell_type": "code",
   "execution_count": 108,
   "id": "unique-birmingham",
   "metadata": {},
   "outputs": [],
   "source": [
    "C_len = find_number_of_output_bytes(n)"
   ]
  },
  {
   "cell_type": "code",
   "execution_count": 109,
   "id": "ethical-freedom",
   "metadata": {},
   "outputs": [],
   "source": [
    "!echo \"Zhivar was here!\" > input.txt"
   ]
  },
  {
   "cell_type": "code",
   "execution_count": 110,
   "id": "floral-chance",
   "metadata": {},
   "outputs": [],
   "source": [
    "with open('input.txt', 'rb') as f:\n",
    "    plain_text = f.read()\n",
    "    f.close()"
   ]
  },
  {
   "cell_type": "code",
   "execution_count": 111,
   "id": "needed-teach",
   "metadata": {},
   "outputs": [
    {
     "name": "stdout",
     "output_type": "stream",
     "text": [
      "90\n",
      "104\n",
      "105\n",
      "118\n",
      "97\n",
      "114\n",
      "32\n",
      "119\n",
      "97\n",
      "115\n",
      "32\n",
      "104\n",
      "101\n",
      "114\n",
      "101\n",
      "33\n",
      "10\n"
     ]
    }
   ],
   "source": [
    "with open('input.txt.enc', 'wb') as f:\n",
    "    for byte in plain_text: \n",
    "        print(byte)\n",
    "        cipher = (byte ** e) % n\n",
    "        cipher = cipher.to_bytes(C_len, sys.byteorder)\n",
    "        f.write(cipher)\n",
    "    f.close()"
   ]
  },
  {
   "cell_type": "code",
   "execution_count": 112,
   "id": "joint-damage",
   "metadata": {},
   "outputs": [
    {
     "name": "stdout",
     "output_type": "stream",
     "text": [
      "�\u0000\u0011\u0001(\u0000\u001b\u0000\u0018\u0001�\u0000Y\u0001\u0002\u0001\u0018\u0001\u001c",
      "\u0000Y\u0001\u0011\u0001�\u0000�\u0000�\u0000�\u00005\u0001"
     ]
    }
   ],
   "source": [
    "!cat input.txt.enc"
   ]
  },
  {
   "cell_type": "code",
   "execution_count": 113,
   "id": "economic-comfort",
   "metadata": {},
   "outputs": [],
   "source": [
    "with open('input.txt.enc', 'rb') as f:\n",
    "    cipher_text = f.read()\n",
    "    f.close()"
   ]
  },
  {
   "cell_type": "code",
   "execution_count": 128,
   "id": "necessary-connectivity",
   "metadata": {},
   "outputs": [
    {
     "name": "stdout",
     "output_type": "stream",
     "text": [
      "90\n",
      "104\n",
      "105\n",
      "118\n",
      "97\n",
      "114\n",
      "32\n",
      "119\n",
      "97\n",
      "115\n",
      "32\n",
      "104\n",
      "101\n",
      "114\n",
      "101\n",
      "33\n",
      "10\n"
     ]
    }
   ],
   "source": [
    "decrypted_result = []\n",
    "for i in range(int(len(cipher_text) / C_len)):\n",
    "    block = bytearray([cipher_text[j] for j in range(2*i, 2*i+C_len)])\n",
    "    block_int = int.from_bytes(block, sys.byteorder)\n",
    "    decrypted_block = (block_int ** d) % n\n",
    "    print(decrypted_block)\n",
    "    decrypted_result.append(decrypted_block)"
   ]
  },
  {
   "cell_type": "code",
   "execution_count": 129,
   "id": "trying-harmony",
   "metadata": {},
   "outputs": [
    {
     "data": {
      "text/plain": [
       "'Zhivar was here!\\n'"
      ]
     },
     "execution_count": 129,
     "metadata": {},
     "output_type": "execute_result"
    }
   ],
   "source": [
    "''.join([chr(ascii_byte) for ascii_byte in decrypted_result])"
   ]
  },
  {
   "cell_type": "code",
   "execution_count": null,
   "id": "driven-crossing",
   "metadata": {},
   "outputs": [],
   "source": [
    "def encrypt(pk, plaintext):\n",
    "    #Unpack the key into it's components\n",
    "    key, n = pk\n",
    "    #Convert each letter in the plaintext to numbers based on the character using a^b mod m\n",
    "    cipher = [(ord(char) ** key) % n for char in plaintext]\n",
    "    #Return the array of bytes\n",
    "    return cipher\n",
    "\n",
    "def decrypt(pk, ciphertext):\n",
    "    #Unpack the key into its components\n",
    "    key, n = pk\n",
    "    #Generate the plaintext based on the ciphertext and key using a^b mod m\n",
    "    plain = [chr((char ** key) % n) for char in ciphertext]\n",
    "    #Return the array of bytes as a string\n",
    "    return ''.join(plain)\n",
    "    \n",
    "\n",
    "if __name__ == '__main__':\n",
    "    '''\n",
    "    Detect if the script is being run directly by the user\n",
    "    '''\n",
    "    print \"RSA Encrypter/ Decrypter\"\n",
    "    p = int(raw_input(\"Enter a prime number (17, 19, 23, etc): \"))\n",
    "    q = int(raw_input(\"Enter another prime number (Not one you entered above): \"))\n",
    "    print \"Generating your public/private keypairs now . . .\"\n",
    "    public, private = generate_keypair(p, q)\n",
    "    print \"Your public key is \", public ,\" and your private key is \", private\n",
    "    message = raw_input(\"Enter a message to encrypt with your private key: \")\n",
    "    encrypted_msg = encrypt(private, message)\n",
    "    print \"Your encrypted message is: \"\n",
    "    print ''.join(map(lambda x: str(x), encrypted_msg))\n",
    "    print \"Decrypting message with public key \", public ,\" . . .\"\n",
    "    print \"Your message is:\"\n",
    "    print decrypt(public, encrypted_msg)"
   ]
  },
  {
   "cell_type": "code",
   "execution_count": null,
   "id": "anticipated-insurance",
   "metadata": {},
   "outputs": [],
   "source": []
  }
 ],
 "metadata": {
  "kernelspec": {
   "display_name": "Python 3",
   "language": "python",
   "name": "python3"
  },
  "language_info": {
   "codemirror_mode": {
    "name": "ipython",
    "version": 3
   },
   "file_extension": ".py",
   "mimetype": "text/x-python",
   "name": "python",
   "nbconvert_exporter": "python",
   "pygments_lexer": "ipython3",
   "version": "3.8.0"
  }
 },
 "nbformat": 4,
 "nbformat_minor": 5
}
