{
 "cells": [
  {
   "cell_type": "markdown",
   "id": "equivalent-airline",
   "metadata": {},
   "source": [
    "Importing the libraries"
   ]
  },
  {
   "cell_type": "code",
   "execution_count": 253,
   "id": "spectacular-headline",
   "metadata": {},
   "outputs": [],
   "source": [
    "import math\n",
    "import numpy as np\n",
    "import random"
   ]
  },
  {
   "cell_type": "code",
   "execution_count": 254,
   "id": "iraqi-specialist",
   "metadata": {},
   "outputs": [],
   "source": [
    "def is_prime(n):\n",
    "    if n==2 or n==3: return True\n",
    "    if n%2==0 or n<2: return False\n",
    "    for i in range(3, int(n**0.5)+1, 2):   # only odd numbers\n",
    "        if n%i==0:\n",
    "            return False    \n",
    "\n",
    "    return True"
   ]
  },
  {
   "cell_type": "code",
   "execution_count": 255,
   "id": "spanish-frame",
   "metadata": {},
   "outputs": [],
   "source": [
    "def gcd(a, b):\n",
    "    while b != 0:\n",
    "        a, b = b, a % b\n",
    "    return a\n",
    "\n",
    "\n",
    "def extended_gcd(a, b): \n",
    "\n",
    "    if a == 0 :  \n",
    "        return b, 0, 1\n",
    "             \n",
    "    gcd,x1,y1 = extended_gcd(b%a, a) \n",
    "     \n",
    "\n",
    "    x = y1 - (b//a) * x1 \n",
    "    y = x1 \n",
    "     \n",
    "    return gcd, x, y"
   ]
  },
  {
   "cell_type": "code",
   "execution_count": 259,
   "id": "engaging-destruction",
   "metadata": {},
   "outputs": [],
   "source": [
    "def write_key(key, filename):\n",
    "    with open(filename, 'w') as fp:\n",
    "        fp.write(str(key[0]))\n",
    "        fp.write('\\n')\n",
    "        fp.write(str(key[1]))\n",
    "        fp.close()\n",
    "\n",
    "def generate_keypairs(p, q):\n",
    "    if not(is_prime(p) and is_prime(q)):\n",
    "        print('Both numbers you are entering must be prime!')\n",
    "        return -1\n",
    "    if p == q:\n",
    "        print('Numbers you are are entering must be not the same!')\n",
    "        return -1\n",
    "    n = p * q\n",
    "    if n < 256:\n",
    "        print('The multiplication of two numbers entered must be greater than 256!')\n",
    "        return -1\n",
    "\n",
    "    phi = (p - 1) * (q - 1)\n",
    "\n",
    "    e = random.randrange(2, phi)\n",
    "\n",
    "    g1 = gcd(e, phi)\n",
    "    g2 = gcd(e, n)\n",
    "    while g1 != 1 or g2 != 1:\n",
    "        e = random.randrange(2, phi)\n",
    "        g1 = gcd(e, phi)\n",
    "        g2 = gcd(e, n)\n",
    "\n",
    "    d = extended_gcd(e, phi)[1]\n",
    "    d += phi\n",
    "    while d < 0:\n",
    "        d += phi\n",
    "    print('p: {}, q: {}, n: {}, phi: {}, e: {}, d: {}'.format(p, q, n, phi, e, d))\n",
    "    \n",
    "    write_key((e, n), 'public.key')\n",
    "    write_key((d, n), 'private.key')\n",
    "    \n",
    "    return ((e, n), (d, n))"
   ]
  },
  {
   "cell_type": "code",
   "execution_count": 260,
   "id": "permanent-danish",
   "metadata": {},
   "outputs": [
    {
     "name": "stdout",
     "output_type": "stream",
     "text": [
      "Both numbers you are entering must be prime!\n"
     ]
    },
    {
     "data": {
      "text/plain": [
       "-1"
      ]
     },
     "execution_count": 260,
     "metadata": {},
     "output_type": "execute_result"
    }
   ],
   "source": [
    "generate_keypairs(2, 4)"
   ]
  },
  {
   "cell_type": "code",
   "execution_count": 261,
   "id": "solar-release",
   "metadata": {},
   "outputs": [
    {
     "name": "stdout",
     "output_type": "stream",
     "text": [
      "Numbers you are are entering must be not the same!\n"
     ]
    },
    {
     "data": {
      "text/plain": [
       "-1"
      ]
     },
     "execution_count": 261,
     "metadata": {},
     "output_type": "execute_result"
    }
   ],
   "source": [
    "generate_keypairs(3, 3)"
   ]
  },
  {
   "cell_type": "code",
   "execution_count": 262,
   "id": "nuclear-wagon",
   "metadata": {},
   "outputs": [
    {
     "name": "stdout",
     "output_type": "stream",
     "text": [
      "The multiplication of two numbers entered must be greater than 256!\n"
     ]
    },
    {
     "data": {
      "text/plain": [
       "-1"
      ]
     },
     "execution_count": 262,
     "metadata": {},
     "output_type": "execute_result"
    }
   ],
   "source": [
    "generate_keypairs(2, 7)"
   ]
  },
  {
   "cell_type": "code",
   "execution_count": 207,
   "id": "consolidated-wheat",
   "metadata": {},
   "outputs": [
    {
     "name": "stdout",
     "output_type": "stream",
     "text": [
      "p: 29, q: 13, n: 377, phi: 336, e: 11, d: -174\n"
     ]
    },
    {
     "data": {
      "text/plain": [
       "((11, 377), (-174, 377))"
      ]
     },
     "execution_count": 207,
     "metadata": {},
     "output_type": "execute_result"
    }
   ],
   "source": [
    "generate_keypairs(29, 13)"
   ]
  },
  {
   "cell_type": "code",
   "execution_count": 216,
   "id": "orange-future",
   "metadata": {},
   "outputs": [
    {
     "data": {
      "text/plain": [
       "102"
      ]
     },
     "execution_count": 216,
     "metadata": {},
     "output_type": "execute_result"
    }
   ],
   "source": [
    "(-11 * 174) % 336"
   ]
  },
  {
   "cell_type": "code",
   "execution_count": 193,
   "id": "acquired-madrid",
   "metadata": {},
   "outputs": [],
   "source": [
    "a = (2 ** 239)%377"
   ]
  },
  {
   "cell_type": "code",
   "execution_count": 194,
   "id": "joint-delta",
   "metadata": {},
   "outputs": [
    {
     "data": {
      "text/plain": [
       "85"
      ]
     },
     "execution_count": 194,
     "metadata": {},
     "output_type": "execute_result"
    }
   ],
   "source": [
    "a"
   ]
  },
  {
   "cell_type": "code",
   "execution_count": 195,
   "id": "suitable-franchise",
   "metadata": {},
   "outputs": [
    {
     "data": {
      "text/plain": [
       "162"
      ]
     },
     "execution_count": 195,
     "metadata": {},
     "output_type": "execute_result"
    }
   ],
   "source": [
    "(a ** 7)%377"
   ]
  }
 ],
 "metadata": {
  "kernelspec": {
   "display_name": "Python 3",
   "language": "python",
   "name": "python3"
  },
  "language_info": {
   "codemirror_mode": {
    "name": "ipython",
    "version": 3
   },
   "file_extension": ".py",
   "mimetype": "text/x-python",
   "name": "python",
   "nbconvert_exporter": "python",
   "pygments_lexer": "ipython3",
   "version": "3.8.0"
  }
 },
 "nbformat": 4,
 "nbformat_minor": 5
}
